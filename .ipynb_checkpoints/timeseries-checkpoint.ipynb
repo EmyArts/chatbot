{
 "cells": [
  {
   "cell_type": "markdown",
   "metadata": {},
   "source": [
    "# Time Series Analysis (WDI)\n",
    "by Emy Arts and Sophia Zell"
   ]
  },
  {
   "cell_type": "markdown",
   "metadata": {},
   "source": [
    "### General relationship between population growth and economic growth in low and high income countries."
   ]
  },
  {
   "cell_type": "code",
   "execution_count": 84,
   "metadata": {},
   "outputs": [],
   "source": [
    "import pandas as pd\n",
    "import matplotlib.pyplot as plt\n",
    "import seaborn as sns\n",
    "import numpy as np\n",
    "\n",
    "eco = pd.read_csv('economic_growth.csv').dropna().drop([\"Series Name\", \"Series Code\"], axis=1)\n",
    "pop = pd.read_csv('population_growth.csv').dropna().drop([\"Series Name\", \"Series Code\"], axis=1)"
   ]
  },
  {
   "cell_type": "code",
   "execution_count": 2,
   "metadata": {},
   "outputs": [],
   "source": [
    "eco_countries = eco.iloc[:, 0:2].copy()\n",
    "eco_years = eco.iloc[:,2:].apply(pd.to_numeric, args=('coerce',))\n",
    "eco = pd.concat([eco_countries, eco_years], axis=1)\n",
    "\n",
    "pop_countries = eco.iloc[:, 0:2].copy()\n",
    "pop_years = pop.iloc[:,2:].apply(pd.to_numeric, args=('coerce',))\n",
    "pop = pd.concat([pop_countries, pop_years], axis=1)"
   ]
  },
  {
   "cell_type": "code",
   "execution_count": 3,
   "metadata": {},
   "outputs": [
    {
     "data": {
      "text/html": [
       "<div>\n",
       "<style scoped>\n",
       "    .dataframe tbody tr th:only-of-type {\n",
       "        vertical-align: middle;\n",
       "    }\n",
       "\n",
       "    .dataframe tbody tr th {\n",
       "        vertical-align: top;\n",
       "    }\n",
       "\n",
       "    .dataframe thead th {\n",
       "        text-align: right;\n",
       "    }\n",
       "</style>\n",
       "<table border=\"1\" class=\"dataframe\">\n",
       "  <thead>\n",
       "    <tr style=\"text-align: right;\">\n",
       "      <th></th>\n",
       "      <th>Country Name</th>\n",
       "      <th>Country Code</th>\n",
       "      <th>1960 [YR1960]</th>\n",
       "      <th>1961 [YR1961]</th>\n",
       "      <th>1962 [YR1962]</th>\n",
       "      <th>1963 [YR1963]</th>\n",
       "      <th>1964 [YR1964]</th>\n",
       "      <th>1965 [YR1965]</th>\n",
       "      <th>1966 [YR1966]</th>\n",
       "      <th>1967 [YR1967]</th>\n",
       "      <th>...</th>\n",
       "      <th>2008 [YR2008]</th>\n",
       "      <th>2009 [YR2009]</th>\n",
       "      <th>2010 [YR2010]</th>\n",
       "      <th>2011 [YR2011]</th>\n",
       "      <th>2012 [YR2012]</th>\n",
       "      <th>2013 [YR2013]</th>\n",
       "      <th>2014 [YR2014]</th>\n",
       "      <th>2015 [YR2015]</th>\n",
       "      <th>2016 [YR2016]</th>\n",
       "      <th>2017 [YR2017]</th>\n",
       "    </tr>\n",
       "  </thead>\n",
       "  <tbody>\n",
       "    <tr>\n",
       "      <th>142</th>\n",
       "      <td>Low income</td>\n",
       "      <td>LIC</td>\n",
       "      <td>NaN</td>\n",
       "      <td>NaN</td>\n",
       "      <td>NaN</td>\n",
       "      <td>NaN</td>\n",
       "      <td>NaN</td>\n",
       "      <td>NaN</td>\n",
       "      <td>NaN</td>\n",
       "      <td>NaN</td>\n",
       "      <td>...</td>\n",
       "      <td>2.09175</td>\n",
       "      <td>2.467575</td>\n",
       "      <td>3.924465</td>\n",
       "      <td>1.826828</td>\n",
       "      <td>3.605564</td>\n",
       "      <td>3.084659</td>\n",
       "      <td>3.051287</td>\n",
       "      <td>-0.774296</td>\n",
       "      <td>-0.100637</td>\n",
       "      <td>3.02634</td>\n",
       "    </tr>\n",
       "  </tbody>\n",
       "</table>\n",
       "<p>1 rows × 60 columns</p>\n",
       "</div>"
      ],
      "text/plain": [
       "    Country Name Country Code  1960 [YR1960]  1961 [YR1961]  1962 [YR1962]  \\\n",
       "142   Low income          LIC            NaN            NaN            NaN   \n",
       "\n",
       "     1963 [YR1963]  1964 [YR1964]  1965 [YR1965]  1966 [YR1966]  \\\n",
       "142            NaN            NaN            NaN            NaN   \n",
       "\n",
       "     1967 [YR1967]      ...        2008 [YR2008]  2009 [YR2009]  \\\n",
       "142            NaN      ...              2.09175       2.467575   \n",
       "\n",
       "     2010 [YR2010]  2011 [YR2011]  2012 [YR2012]  2013 [YR2013]  \\\n",
       "142       3.924465       1.826828       3.605564       3.084659   \n",
       "\n",
       "     2014 [YR2014]  2015 [YR2015]  2016 [YR2016]  2017 [YR2017]  \n",
       "142       3.051287      -0.774296      -0.100637        3.02634  \n",
       "\n",
       "[1 rows x 60 columns]"
      ]
     },
     "execution_count": 3,
     "metadata": {},
     "output_type": "execute_result"
    }
   ],
   "source": [
    "eco_low_income = eco[eco['Country Name'] == 'Low income']\n",
    "eco_low_income_years = eco_low_income.iloc[0:0, 2:].copy()\n",
    "eco_low_income"
   ]
  },
  {
   "cell_type": "code",
   "execution_count": 4,
   "metadata": {},
   "outputs": [
    {
     "data": {
      "text/html": [
       "<div>\n",
       "<style scoped>\n",
       "    .dataframe tbody tr th:only-of-type {\n",
       "        vertical-align: middle;\n",
       "    }\n",
       "\n",
       "    .dataframe tbody tr th {\n",
       "        vertical-align: top;\n",
       "    }\n",
       "\n",
       "    .dataframe thead th {\n",
       "        text-align: right;\n",
       "    }\n",
       "</style>\n",
       "<table border=\"1\" class=\"dataframe\">\n",
       "  <thead>\n",
       "    <tr style=\"text-align: right;\">\n",
       "      <th></th>\n",
       "      <th>Country Name</th>\n",
       "      <th>Country Code</th>\n",
       "      <th>1960 [YR1960]</th>\n",
       "      <th>1961 [YR1961]</th>\n",
       "      <th>1962 [YR1962]</th>\n",
       "      <th>1963 [YR1963]</th>\n",
       "      <th>1964 [YR1964]</th>\n",
       "      <th>1965 [YR1965]</th>\n",
       "      <th>1966 [YR1966]</th>\n",
       "      <th>1967 [YR1967]</th>\n",
       "      <th>...</th>\n",
       "      <th>2008 [YR2008]</th>\n",
       "      <th>2009 [YR2009]</th>\n",
       "      <th>2010 [YR2010]</th>\n",
       "      <th>2011 [YR2011]</th>\n",
       "      <th>2012 [YR2012]</th>\n",
       "      <th>2013 [YR2013]</th>\n",
       "      <th>2014 [YR2014]</th>\n",
       "      <th>2015 [YR2015]</th>\n",
       "      <th>2016 [YR2016]</th>\n",
       "      <th>2017 [YR2017]</th>\n",
       "    </tr>\n",
       "  </thead>\n",
       "  <tbody>\n",
       "    <tr>\n",
       "      <th>142</th>\n",
       "      <td>Low income</td>\n",
       "      <td>LIC</td>\n",
       "      <td>NaN</td>\n",
       "      <td>2.226947</td>\n",
       "      <td>2.234124</td>\n",
       "      <td>2.262361</td>\n",
       "      <td>2.319345</td>\n",
       "      <td>2.392986</td>\n",
       "      <td>2.467723</td>\n",
       "      <td>2.527161</td>\n",
       "      <td>...</td>\n",
       "      <td>2.783784</td>\n",
       "      <td>2.747848</td>\n",
       "      <td>2.700854</td>\n",
       "      <td>2.650767</td>\n",
       "      <td>2.608928</td>\n",
       "      <td>2.581591</td>\n",
       "      <td>2.572963</td>\n",
       "      <td>2.576937</td>\n",
       "      <td>2.580795</td>\n",
       "      <td>2.580629</td>\n",
       "    </tr>\n",
       "  </tbody>\n",
       "</table>\n",
       "<p>1 rows × 60 columns</p>\n",
       "</div>"
      ],
      "text/plain": [
       "    Country Name Country Code  1960 [YR1960]  1961 [YR1961]  1962 [YR1962]  \\\n",
       "142   Low income          LIC            NaN       2.226947       2.234124   \n",
       "\n",
       "     1963 [YR1963]  1964 [YR1964]  1965 [YR1965]  1966 [YR1966]  \\\n",
       "142       2.262361       2.319345       2.392986       2.467723   \n",
       "\n",
       "     1967 [YR1967]      ...        2008 [YR2008]  2009 [YR2009]  \\\n",
       "142       2.527161      ...             2.783784       2.747848   \n",
       "\n",
       "     2010 [YR2010]  2011 [YR2011]  2012 [YR2012]  2013 [YR2013]  \\\n",
       "142       2.700854       2.650767       2.608928       2.581591   \n",
       "\n",
       "     2014 [YR2014]  2015 [YR2015]  2016 [YR2016]  2017 [YR2017]  \n",
       "142       2.572963       2.576937       2.580795       2.580629  \n",
       "\n",
       "[1 rows x 60 columns]"
      ]
     },
     "execution_count": 4,
     "metadata": {},
     "output_type": "execute_result"
    }
   ],
   "source": [
    "pop_low_income = pop[pop['Country Name'] == 'Low income']\n",
    "pop_low_income_years = pop_low_income.iloc[0:0, 2:].copy()\n",
    "pop_low_income"
   ]
  },
  {
   "cell_type": "code",
   "execution_count": 5,
   "metadata": {},
   "outputs": [
    {
     "name": "stderr",
     "output_type": "stream",
     "text": [
      "C:\\ProgramData\\Anaconda3\\lib\\site-packages\\ipykernel_launcher.py:8: SettingWithCopyWarning: \n",
      "A value is trying to be set on a copy of a slice from a DataFrame\n",
      "\n",
      "See the caveats in the documentation: http://pandas.pydata.org/pandas-docs/stable/indexing.html#indexing-view-versus-copy\n",
      "  \n",
      "C:\\ProgramData\\Anaconda3\\lib\\site-packages\\ipykernel_launcher.py:12: SettingWithCopyWarning: \n",
      "A value is trying to be set on a copy of a slice from a DataFrame\n",
      "\n",
      "See the caveats in the documentation: http://pandas.pydata.org/pandas-docs/stable/indexing.html#indexing-view-versus-copy\n",
      "  if sys.path[0] == '':\n"
     ]
    }
   ],
   "source": [
    "eco_lic = pd.melt(eco_low_income, id_vars=[\"Country Name\", \"Country Code\"], \n",
    "                  var_name=\"Year\", value_name=\"Economic growth\")\n",
    "pop_lic = pd.melt(pop_low_income, id_vars=[\"Country Name\", \"Country Code\"], \n",
    "                  var_name=\"Year\", value_name=\"Population growth\")\n",
    "\n",
    "for date in eco_lic['Year']:\n",
    "    short = int(date[0:4])\n",
    "    eco_lic['Year'][eco_lic['Year'] == date] = int(float(short))\n",
    "    \n",
    "for date in pop_lic['Year']:\n",
    "    short = int(date[0:4])\n",
    "    pop_lic['Year'][pop_lic['Year'] == date] = int(float(short))"
   ]
  },
  {
   "cell_type": "code",
   "execution_count": 6,
   "metadata": {},
   "outputs": [
    {
     "data": {
      "text/plain": [
       "<matplotlib.axes._subplots.AxesSubplot at 0x25776fde470>"
      ]
     },
     "execution_count": 6,
     "metadata": {},
     "output_type": "execute_result"
    },
    {
     "data": {
      "image/png": "[encoded data removed]",
      "text/plain": [
       "<Figure size 432x288 with 1 Axes>"
      ]
     },
     "metadata": {
      "needs_background": "light"
     },
     "output_type": "display_data"
    }
   ],
   "source": [
    "axs = eco_lic.plot(x= \"Year\", y = \"Economic growth\", xlim=(1960, 2017))\n",
    "pop_lic.plot(x= \"Year\", y = \"Population growth\", ax=axs, xlim=(1960, 2017))"
   ]
  },
  {
   "cell_type": "markdown",
   "metadata": {},
   "source": []
  },
  {
   "cell_type": "code",
   "execution_count": 8,
   "metadata": {},
   "outputs": [
    {
     "name": "stdout",
     "output_type": "stream",
     "text": [
      "   Country Name Country Code  Year  Economic growth  Population growth\n",
      "0    Low income          LIC  1960              NaN                NaN\n",
      "1    Low income          LIC  1961              NaN           2.226947\n",
      "2    Low income          LIC  1962              NaN           2.234124\n",
      "3    Low income          LIC  1963              NaN           2.262361\n",
      "4    Low income          LIC  1964              NaN           2.319345\n",
      "5    Low income          LIC  1965              NaN           2.392986\n",
      "6    Low income          LIC  1966              NaN           2.467723\n",
      "7    Low income          LIC  1967              NaN           2.527161\n",
      "8    Low income          LIC  1968              NaN           2.566556\n",
      "9    Low income          LIC  1969              NaN           2.580635\n",
      "10   Low income          LIC  1970              NaN           2.577101\n",
      "11   Low income          LIC  1971              NaN           2.568720\n",
      "12   Low income          LIC  1972              NaN           2.563175\n",
      "13   Low income          LIC  1973              NaN           2.557917\n",
      "14   Low income          LIC  1974              NaN           2.554939\n",
      "15   Low income          LIC  1975              NaN           2.553338\n",
      "16   Low income          LIC  1976              NaN           2.554770\n",
      "17   Low income          LIC  1977              NaN           2.554951\n",
      "18   Low income          LIC  1978              NaN           2.548291\n",
      "19   Low income          LIC  1979              NaN           2.533227\n",
      "20   Low income          LIC  1980              NaN           2.515317\n",
      "21   Low income          LIC  1981              NaN           2.497143\n",
      "22   Low income          LIC  1982              NaN           2.488988\n",
      "23   Low income          LIC  1983              NaN           2.500402\n",
      "24   Low income          LIC  1984              NaN           2.535679\n",
      "25   Low income          LIC  1985              NaN           2.586996\n",
      "26   Low income          LIC  1986         0.825342           2.636048\n",
      "27   Low income          LIC  1987         0.133981           2.679891\n",
      "28   Low income          LIC  1988         1.411263           2.730063\n",
      "29   Low income          LIC  1989        -1.638468           2.786662\n",
      "30   Low income          LIC  1990        -2.461204           2.842828\n",
      "31   Low income          LIC  1991        -2.375886           2.903040\n",
      "32   Low income          LIC  1992        -6.522244           2.949314\n",
      "33   Low income          LIC  1993        -3.211228           2.957895\n",
      "34   Low income          LIC  1994        -1.380082           2.921224\n",
      "35   Low income          LIC  1995         0.798078           2.857221\n",
      "36   Low income          LIC  1996         2.507253           2.784916\n",
      "37   Low income          LIC  1997         0.808539           2.728217\n",
      "38   Low income          LIC  1998         0.703937           2.698152\n",
      "39   Low income          LIC  1999         0.467789           2.703075\n",
      "40   Low income          LIC  2000        -0.383166           2.730607\n",
      "41   Low income          LIC  2001         1.767785           2.758973\n",
      "42   Low income          LIC  2002        -0.302787           2.776926\n",
      "43   Low income          LIC  2003         0.416427           2.790696\n",
      "44   Low income          LIC  2004         2.645953           2.797752\n",
      "45   Low income          LIC  2005         3.137554           2.798465\n",
      "46   Low income          LIC  2006         1.995969           2.801127\n",
      "47   Low income          LIC  2007         3.214807           2.800543\n",
      "48   Low income          LIC  2008         2.091750           2.783784\n",
      "49   Low income          LIC  2009         2.467575           2.747848\n",
      "50   Low income          LIC  2010         3.924465           2.700854\n",
      "51   Low income          LIC  2011         1.826828           2.650767\n",
      "52   Low income          LIC  2012         3.605564           2.608928\n",
      "53   Low income          LIC  2013         3.084659           2.581591\n",
      "54   Low income          LIC  2014         3.051287           2.572963\n",
      "55   Low income          LIC  2015        -0.774296           2.576937\n",
      "56   Low income          LIC  2016        -0.100637           2.580795\n",
      "57   Low income          LIC  2017         3.026340           2.580629\n"
     ]
    }
   ],
   "source": [
    "lic_con = eco_lic\n",
    "lic_con['Population growth'] = pop_lic['Population growth']\n",
    "print(lic_con)"
   ]
  },
  {
   "cell_type": "code",
   "execution_count": 68,
   "metadata": {
    "scrolled": true
   },
   "outputs": [
    {
     "data": {
      "text/html": [
       "<div>\n",
       "<style scoped>\n",
       "    .dataframe tbody tr th:only-of-type {\n",
       "        vertical-align: middle;\n",
       "    }\n",
       "\n",
       "    .dataframe tbody tr th {\n",
       "        vertical-align: top;\n",
       "    }\n",
       "\n",
       "    .dataframe thead th {\n",
       "        text-align: right;\n",
       "    }\n",
       "</style>\n",
       "<table border=\"1\" class=\"dataframe\">\n",
       "  <thead>\n",
       "    <tr style=\"text-align: right;\">\n",
       "      <th></th>\n",
       "      <th>Economic growth</th>\n",
       "      <th>Population growth</th>\n",
       "    </tr>\n",
       "  </thead>\n",
       "  <tbody>\n",
       "    <tr>\n",
       "      <th>Economic growth</th>\n",
       "      <td>1.000000</td>\n",
       "      <td>-0.559475</td>\n",
       "    </tr>\n",
       "    <tr>\n",
       "      <th>Population growth</th>\n",
       "      <td>-0.559475</td>\n",
       "      <td>1.000000</td>\n",
       "    </tr>\n",
       "  </tbody>\n",
       "</table>\n",
       "</div>"
      ],
      "text/plain": [
       "                   Economic growth  Population growth\n",
       "Economic growth           1.000000          -0.559475\n",
       "Population growth        -0.559475           1.000000"
      ]
     },
     "execution_count": 68,
     "metadata": {},
     "output_type": "execute_result"
    }
   ],
   "source": [
    "lic_con.corr()"
   ]
  },
  {
   "cell_type": "code",
   "execution_count": 80,
   "metadata": {},
   "outputs": [
    {
     "data": {
      "text/plain": [
       "-0.27043224023938534"
      ]
     },
     "execution_count": 80,
     "metadata": {},
     "output_type": "execute_result"
    }
   ],
   "source": [
    "lc2 = lic_con[26:]\n",
    "lc2[\"Population growth\"].diff().corr(lc2[\"Economic growth\"].diff())"
   ]
  },
  {
   "cell_type": "markdown",
   "metadata": {},
   "source": []
  },
  {
   "cell_type": "code",
   "execution_count": 25,
   "metadata": {},
   "outputs": [
    {
     "data": {
      "text/html": [
       "<div>\n",
       "<style scoped>\n",
       "    .dataframe tbody tr th:only-of-type {\n",
       "        vertical-align: middle;\n",
       "    }\n",
       "\n",
       "    .dataframe tbody tr th {\n",
       "        vertical-align: top;\n",
       "    }\n",
       "\n",
       "    .dataframe thead th {\n",
       "        text-align: right;\n",
       "    }\n",
       "</style>\n",
       "<table border=\"1\" class=\"dataframe\">\n",
       "  <thead>\n",
       "    <tr style=\"text-align: right;\">\n",
       "      <th></th>\n",
       "      <th>Country Name</th>\n",
       "      <th>Country Code</th>\n",
       "      <th>1960 [YR1960]</th>\n",
       "      <th>1961 [YR1961]</th>\n",
       "      <th>1962 [YR1962]</th>\n",
       "      <th>1963 [YR1963]</th>\n",
       "      <th>1964 [YR1964]</th>\n",
       "      <th>1965 [YR1965]</th>\n",
       "      <th>1966 [YR1966]</th>\n",
       "      <th>1967 [YR1967]</th>\n",
       "      <th>...</th>\n",
       "      <th>2008 [YR2008]</th>\n",
       "      <th>2009 [YR2009]</th>\n",
       "      <th>2010 [YR2010]</th>\n",
       "      <th>2011 [YR2011]</th>\n",
       "      <th>2012 [YR2012]</th>\n",
       "      <th>2013 [YR2013]</th>\n",
       "      <th>2014 [YR2014]</th>\n",
       "      <th>2015 [YR2015]</th>\n",
       "      <th>2016 [YR2016]</th>\n",
       "      <th>2017 [YR2017]</th>\n",
       "    </tr>\n",
       "  </thead>\n",
       "  <tbody>\n",
       "    <tr>\n",
       "      <th>99</th>\n",
       "      <td>High income</td>\n",
       "      <td>HIC</td>\n",
       "      <td>NaN</td>\n",
       "      <td>3.229798</td>\n",
       "      <td>4.41298</td>\n",
       "      <td>3.82173</td>\n",
       "      <td>5.215253</td>\n",
       "      <td>4.380795</td>\n",
       "      <td>4.829544</td>\n",
       "      <td>3.475656</td>\n",
       "      <td>...</td>\n",
       "      <td>-0.480481</td>\n",
       "      <td>-4.140146</td>\n",
       "      <td>2.301739</td>\n",
       "      <td>1.389207</td>\n",
       "      <td>0.629235</td>\n",
       "      <td>0.77125</td>\n",
       "      <td>1.379307</td>\n",
       "      <td>1.716477</td>\n",
       "      <td>1.048798</td>\n",
       "      <td>1.664907</td>\n",
       "    </tr>\n",
       "  </tbody>\n",
       "</table>\n",
       "<p>1 rows × 60 columns</p>\n",
       "</div>"
      ],
      "text/plain": [
       "   Country Name Country Code  1960 [YR1960]  1961 [YR1961]  1962 [YR1962]  \\\n",
       "99  High income          HIC            NaN       3.229798        4.41298   \n",
       "\n",
       "    1963 [YR1963]  1964 [YR1964]  1965 [YR1965]  1966 [YR1966]  1967 [YR1967]  \\\n",
       "99        3.82173       5.215253       4.380795       4.829544       3.475656   \n",
       "\n",
       "        ...        2008 [YR2008]  2009 [YR2009]  2010 [YR2010]  2011 [YR2011]  \\\n",
       "99      ...            -0.480481      -4.140146       2.301739       1.389207   \n",
       "\n",
       "    2012 [YR2012]  2013 [YR2013]  2014 [YR2014]  2015 [YR2015]  2016 [YR2016]  \\\n",
       "99       0.629235        0.77125       1.379307       1.716477       1.048798   \n",
       "\n",
       "    2017 [YR2017]  \n",
       "99       1.664907  \n",
       "\n",
       "[1 rows x 60 columns]"
      ]
     },
     "execution_count": 25,
     "metadata": {},
     "output_type": "execute_result"
    }
   ],
   "source": [
    "eco_high_income = eco[eco['Country Name'] == 'High income']\n",
    "eco_high_income_years = eco_low_income.iloc[0:0, 2:].copy()\n",
    "eco_high_income"
   ]
  },
  {
   "cell_type": "code",
   "execution_count": 26,
   "metadata": {},
   "outputs": [
    {
     "data": {
      "text/html": [
       "<div>\n",
       "<style scoped>\n",
       "    .dataframe tbody tr th:only-of-type {\n",
       "        vertical-align: middle;\n",
       "    }\n",
       "\n",
       "    .dataframe tbody tr th {\n",
       "        vertical-align: top;\n",
       "    }\n",
       "\n",
       "    .dataframe thead th {\n",
       "        text-align: right;\n",
       "    }\n",
       "</style>\n",
       "<table border=\"1\" class=\"dataframe\">\n",
       "  <thead>\n",
       "    <tr style=\"text-align: right;\">\n",
       "      <th></th>\n",
       "      <th>Country Name</th>\n",
       "      <th>Country Code</th>\n",
       "      <th>1960 [YR1960]</th>\n",
       "      <th>1961 [YR1961]</th>\n",
       "      <th>1962 [YR1962]</th>\n",
       "      <th>1963 [YR1963]</th>\n",
       "      <th>1964 [YR1964]</th>\n",
       "      <th>1965 [YR1965]</th>\n",
       "      <th>1966 [YR1966]</th>\n",
       "      <th>1967 [YR1967]</th>\n",
       "      <th>...</th>\n",
       "      <th>2008 [YR2008]</th>\n",
       "      <th>2009 [YR2009]</th>\n",
       "      <th>2010 [YR2010]</th>\n",
       "      <th>2011 [YR2011]</th>\n",
       "      <th>2012 [YR2012]</th>\n",
       "      <th>2013 [YR2013]</th>\n",
       "      <th>2014 [YR2014]</th>\n",
       "      <th>2015 [YR2015]</th>\n",
       "      <th>2016 [YR2016]</th>\n",
       "      <th>2017 [YR2017]</th>\n",
       "    </tr>\n",
       "  </thead>\n",
       "  <tbody>\n",
       "    <tr>\n",
       "      <th>99</th>\n",
       "      <td>High income</td>\n",
       "      <td>HIC</td>\n",
       "      <td>NaN</td>\n",
       "      <td>1.504802</td>\n",
       "      <td>1.31213</td>\n",
       "      <td>1.284886</td>\n",
       "      <td>1.254597</td>\n",
       "      <td>1.191161</td>\n",
       "      <td>1.100653</td>\n",
       "      <td>1.042226</td>\n",
       "      <td>...</td>\n",
       "      <td>0.836625</td>\n",
       "      <td>0.746887</td>\n",
       "      <td>0.671514</td>\n",
       "      <td>0.487502</td>\n",
       "      <td>0.616517</td>\n",
       "      <td>0.618685</td>\n",
       "      <td>0.627685</td>\n",
       "      <td>0.611316</td>\n",
       "      <td>0.601238</td>\n",
       "      <td>0.557798</td>\n",
       "    </tr>\n",
       "  </tbody>\n",
       "</table>\n",
       "<p>1 rows × 60 columns</p>\n",
       "</div>"
      ],
      "text/plain": [
       "   Country Name Country Code  1960 [YR1960]  1961 [YR1961]  1962 [YR1962]  \\\n",
       "99  High income          HIC            NaN       1.504802        1.31213   \n",
       "\n",
       "    1963 [YR1963]  1964 [YR1964]  1965 [YR1965]  1966 [YR1966]  1967 [YR1967]  \\\n",
       "99       1.284886       1.254597       1.191161       1.100653       1.042226   \n",
       "\n",
       "        ...        2008 [YR2008]  2009 [YR2009]  2010 [YR2010]  2011 [YR2011]  \\\n",
       "99      ...             0.836625       0.746887       0.671514       0.487502   \n",
       "\n",
       "    2012 [YR2012]  2013 [YR2013]  2014 [YR2014]  2015 [YR2015]  2016 [YR2016]  \\\n",
       "99       0.616517       0.618685       0.627685       0.611316       0.601238   \n",
       "\n",
       "    2017 [YR2017]  \n",
       "99       0.557798  \n",
       "\n",
       "[1 rows x 60 columns]"
      ]
     },
     "execution_count": 26,
     "metadata": {},
     "output_type": "execute_result"
    }
   ],
   "source": [
    "pop_high_income = pop[pop['Country Name'] == 'High income']\n",
    "pop_high_income_years = pop_low_income.iloc[0:0, 2:].copy()\n",
    "pop_high_income"
   ]
  },
  {
   "cell_type": "code",
   "execution_count": 27,
   "metadata": {},
   "outputs": [
    {
     "name": "stderr",
     "output_type": "stream",
     "text": [
      "C:\\ProgramData\\Anaconda3\\lib\\site-packages\\ipykernel_launcher.py:8: SettingWithCopyWarning: \n",
      "A value is trying to be set on a copy of a slice from a DataFrame\n",
      "\n",
      "See the caveats in the documentation: http://pandas.pydata.org/pandas-docs/stable/indexing.html#indexing-view-versus-copy\n",
      "  \n",
      "C:\\ProgramData\\Anaconda3\\lib\\site-packages\\ipykernel_launcher.py:12: SettingWithCopyWarning: \n",
      "A value is trying to be set on a copy of a slice from a DataFrame\n",
      "\n",
      "See the caveats in the documentation: http://pandas.pydata.org/pandas-docs/stable/indexing.html#indexing-view-versus-copy\n",
      "  if sys.path[0] == '':\n"
     ]
    }
   ],
   "source": [
    "eco_hic = pd.melt(eco_high_income, id_vars=[\"Country Name\", \"Country Code\"], \n",
    "                  var_name=\"Year\", value_name=\"Economic growth\")\n",
    "pop_hic = pd.melt(pop_high_income, id_vars=[\"Country Name\", \"Country Code\"], \n",
    "                  var_name=\"Year\", value_name=\"Population growth\")\n",
    "\n",
    "for date in eco_hic['Year']:\n",
    "    short = int(date[0:4])\n",
    "    eco_hic['Year'][eco_hic['Year'] == date] = int(float(short))\n",
    "    \n",
    "for date in pop_hic['Year']:\n",
    "    short = int(date[0:4])\n",
    "    pop_hic['Year'][pop_hic['Year'] == date] = int(float(short))"
   ]
  },
  {
   "cell_type": "code",
   "execution_count": 28,
   "metadata": {},
   "outputs": [
    {
     "data": {
      "text/plain": [
       "<matplotlib.axes._subplots.AxesSubplot at 0x25778545780>"
      ]
     },
     "execution_count": 28,
     "metadata": {},
     "output_type": "execute_result"
    },
    {
     "data": {
      "image/png": "[encoded data removed]",
      "text/plain": [
       "<Figure size 432x288 with 1 Axes>"
      ]
     },
     "metadata": {
      "needs_background": "light"
     },
     "output_type": "display_data"
    }
   ],
   "source": [
    "axs = eco_hic.plot(x= \"Year\", y = \"Economic growth\", xlim=(1960, 2017))\n",
    "pop_hic.plot(x= \"Year\", y = \"Population growth\", ax=axs, xlim=(1960, 2017))"
   ]
  },
  {
   "cell_type": "markdown",
   "metadata": {},
   "source": []
  },
  {
   "cell_type": "code",
   "execution_count": 29,
   "metadata": {},
   "outputs": [
    {
     "name": "stdout",
     "output_type": "stream",
     "text": [
      "   Country Name Country Code  Year  Economic growth  Population growth\n",
      "0   High income          HIC  1960              NaN                NaN\n",
      "1   High income          HIC  1961         3.229798           1.504802\n",
      "2   High income          HIC  1962         4.412980           1.312130\n",
      "3   High income          HIC  1963         3.821730           1.284886\n",
      "4   High income          HIC  1964         5.215253           1.254597\n",
      "5   High income          HIC  1965         4.380795           1.191161\n",
      "6   High income          HIC  1966         4.829544           1.100653\n",
      "7   High income          HIC  1967         3.475656           1.042226\n",
      "8   High income          HIC  1968         5.140465           0.916923\n",
      "9   High income          HIC  1969         4.720252           1.108351\n",
      "10  High income          HIC  1970         3.186508           0.986214\n",
      "11  High income          HIC  1971         2.882830           1.051232\n",
      "12  High income          HIC  1972         4.495116           1.059100\n",
      "13  High income          HIC  1973         5.357540           0.952099\n",
      "14  High income          HIC  1974         0.206485           1.061889\n",
      "15  High income          HIC  1975        -0.919588           0.992042\n",
      "16  High income          HIC  1976         4.123405           0.823558\n",
      "17  High income          HIC  1977         3.059986           0.840597\n",
      "18  High income          HIC  1978         3.235344           0.841127\n",
      "19  High income          HIC  1979         3.326060           0.873573\n",
      "20  High income          HIC  1980         0.615065           0.847391\n",
      "21  High income          HIC  1981         1.065995           0.842809\n",
      "22  High income          HIC  1982        -0.938032           0.795419\n",
      "23  High income          HIC  1983         1.973430           0.745732\n",
      "24  High income          HIC  1984         3.805669           0.704906\n",
      "25  High income          HIC  1985         2.780948           0.703670\n",
      "26  High income          HIC  1986         2.542039           0.727805\n",
      "27  High income          HIC  1987         2.732659           0.720814\n",
      "28  High income          HIC  1988         4.009947           0.730245\n",
      "29  High income          HIC  1989         3.016002           0.767015\n",
      "30  High income          HIC  1990         2.284766           0.805795\n",
      "31  High income          HIC  1991         0.777250           0.816028\n",
      "32  High income          HIC  1992         1.494898           0.655709\n",
      "33  High income          HIC  1993         0.425408           0.816189\n",
      "34  High income          HIC  1994         2.456734           0.744309\n",
      "35  High income          HIC  1995         1.936774           0.880247\n",
      "36  High income          HIC  1996         2.281365           0.696585\n",
      "37  High income          HIC  1997         2.702626           0.693500\n",
      "38  High income          HIC  1998         2.049278           0.654734\n",
      "39  High income          HIC  1999         2.547047           0.657625\n",
      "40  High income          HIC  2000         3.349011           0.632448\n",
      "41  High income          HIC  2001         0.735549           0.683840\n",
      "42  High income          HIC  2002         0.774213           0.682719\n",
      "43  High income          HIC  2003         1.469739           0.677135\n",
      "44  High income          HIC  2004         2.600949           0.704659\n",
      "45  High income          HIC  2005         2.062923           0.714168\n",
      "46  High income          HIC  2006         2.259272           0.758325\n",
      "47  High income          HIC  2007         1.843371           0.795261\n",
      "48  High income          HIC  2008        -0.480481           0.836625\n",
      "49  High income          HIC  2009        -4.140146           0.746887\n",
      "50  High income          HIC  2010         2.301739           0.671514\n",
      "51  High income          HIC  2011         1.389207           0.487502\n",
      "52  High income          HIC  2012         0.629235           0.616517\n",
      "53  High income          HIC  2013         0.771250           0.618685\n",
      "54  High income          HIC  2014         1.379307           0.627685\n",
      "55  High income          HIC  2015         1.716477           0.611316\n",
      "56  High income          HIC  2016         1.048798           0.601238\n",
      "57  High income          HIC  2017         1.664907           0.557798\n"
     ]
    }
   ],
   "source": [
    "hic_con = eco_hic\n",
    "hic_con['Population growth'] = pop_hic['Population growth']\n",
    "print(hic_con)"
   ]
  },
  {
   "cell_type": "code",
   "execution_count": 65,
   "metadata": {},
   "outputs": [
    {
     "data": {
      "text/html": [
       "<div>\n",
       "<style scoped>\n",
       "    .dataframe tbody tr th:only-of-type {\n",
       "        vertical-align: middle;\n",
       "    }\n",
       "\n",
       "    .dataframe tbody tr th {\n",
       "        vertical-align: top;\n",
       "    }\n",
       "\n",
       "    .dataframe thead th {\n",
       "        text-align: right;\n",
       "    }\n",
       "</style>\n",
       "<table border=\"1\" class=\"dataframe\">\n",
       "  <thead>\n",
       "    <tr style=\"text-align: right;\">\n",
       "      <th></th>\n",
       "      <th>Economic growth</th>\n",
       "      <th>Population growth</th>\n",
       "    </tr>\n",
       "  </thead>\n",
       "  <tbody>\n",
       "    <tr>\n",
       "      <th>Economic growth</th>\n",
       "      <td>1.000000</td>\n",
       "      <td>0.425047</td>\n",
       "    </tr>\n",
       "    <tr>\n",
       "      <th>Population growth</th>\n",
       "      <td>0.425047</td>\n",
       "      <td>1.000000</td>\n",
       "    </tr>\n",
       "  </tbody>\n",
       "</table>\n",
       "</div>"
      ],
      "text/plain": [
       "                   Economic growth  Population growth\n",
       "Economic growth           1.000000           0.425047\n",
       "Population growth         0.425047           1.000000"
      ]
     },
     "execution_count": 65,
     "metadata": {},
     "output_type": "execute_result"
    }
   ],
   "source": [
    "hic_con.corr()"
   ]
  },
  {
   "cell_type": "code",
   "execution_count": 83,
   "metadata": {},
   "outputs": [
    {
     "data": {
      "text/plain": [
       "-0.3405855075748085"
      ]
     },
     "execution_count": 83,
     "metadata": {},
     "output_type": "execute_result"
    }
   ],
   "source": [
    "hc = hic_con[1:]\n",
    "hc[\"Population growth\"].diff().corr(hc[\"Economic growth\"].diff())"
   ]
  },
  {
   "cell_type": "markdown",
   "metadata": {},
   "source": [
    "###### We can see that without the trend, the correlation between economic growth and population growth is very similar in low income and high income countries. -0.27 for low income and -0.34 for high income countries. Economic growth and population growth have a small negative correlation."
   ]
  },
  {
   "cell_type": "markdown",
   "metadata": {},
   "source": [
    "### Effect of rapid growth"
   ]
  },
  {
   "cell_type": "code",
   "execution_count": null,
   "metadata": {},
   "outputs": [],
   "source": []
  },
  {
   "cell_type": "markdown",
   "metadata": {},
   "source": [
    "### Prediction of 0% yearly world population growth based on trend of last half century"
   ]
  },
  {
   "cell_type": "code",
   "execution_count": 100,
   "metadata": {},
   "outputs": [
    {
     "data": {
      "text/plain": [
       "[<matplotlib.lines.Line2D at 0x257795e8908>]"
      ]
     },
     "execution_count": 100,
     "metadata": {},
     "output_type": "execute_result"
    },
    {
     "data": {
      "image/png": "[encoded data removed]",
      "text/plain": [
       "<Figure size 432x288 with 1 Axes>"
      ]
     },
     "metadata": {
      "needs_background": "light"
     },
     "output_type": "display_data"
    }
   ],
   "source": [
    "#only values from 1: have values\n",
    "l_yr = lic_con[\"Year\"]\n",
    "l_yr = np.array(l_yr[1:], dtype=float)\n",
    "l_pg = lic_con[\"Population growth\"]\n",
    "l_pg = np.array(l_pg[1:], dtype=float)\n",
    "l_fit = np.polyfit(l_yr,l_pg, 1)\n",
    "l_fit_fn = np.poly1d(l_fit)\n",
    "plt.plot(l_yr, l_fit_fn(l_yr))\n",
    "plt.plot(l_yr,l_pg)"
   ]
  },
  {
   "cell_type": "code",
   "execution_count": 101,
   "metadata": {},
   "outputs": [
    {
     "data": {
      "text/plain": [
       "[<matplotlib.lines.Line2D at 0x257798d92b0>]"
      ]
     },
     "execution_count": 101,
     "metadata": {},
     "output_type": "execute_result"
    },
    {
     "data": {
      "image/png": "[encoded data removed]",
      "text/plain": [
       "<Figure size 432x288 with 1 Axes>"
      ]
     },
     "metadata": {
      "needs_background": "light"
     },
     "output_type": "display_data"
    }
   ],
   "source": [
    "#only values from 1: have values\n",
    "h_yr = hic_con[\"Year\"]\n",
    "h_yr = np.array(h_yr[1:], dtype=float)\n",
    "h_pg = hic_con[\"Population growth\"]\n",
    "h_pg = np.array(h_pg[1:], dtype=float)\n",
    "h_fit = np.polyfit(h_yr,h_pg, 1)\n",
    "h_fit_fn = np.poly1d(h_fit)\n",
    "plt.plot(h_yr, fit_fn(h_yr))\n",
    "plt.plot(h_yr,h_pg)"
   ]
  },
  {
   "cell_type": "code",
   "execution_count": null,
   "metadata": {},
   "outputs": [],
   "source": []
  }
 ],
 "metadata": {
  "kernelspec": {
   "display_name": "Python 3",
   "language": "python",
   "name": "python3"
  },
  "language_info": {
   "codemirror_mode": {
    "name": "ipython",
    "version": 3
   },
   "file_extension": ".py",
   "mimetype": "text/x-python",
   "name": "python",
   "nbconvert_exporter": "python",
   "pygments_lexer": "ipython3",
   "version": "3.7.0"
  }
 },
 "nbformat": 4,
 "nbformat_minor": 2
}
